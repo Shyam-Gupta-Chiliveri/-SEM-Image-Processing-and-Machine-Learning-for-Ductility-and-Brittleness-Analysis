{
 "cells": [
  {
   "cell_type": "code",
   "execution_count": 1,
   "id": "1388f101",
   "metadata": {},
   "outputs": [],
   "source": [
    "import os\n",
    "import cv2\n",
    "import numpy as np\n",
    "from tensorflow.keras.models import Sequential\n",
    "from tensorflow.keras.layers import Conv2D, MaxPooling2D, Flatten, Dense\n",
    "from sklearn.model_selection import train_test_split\n",
    "import matplotlib.pyplot as plt\n",
    "from tensorflow.keras.models import load_model, save_model"
   ]
  },
  {
   "cell_type": "code",
   "execution_count": 2,
   "id": "6cc11c21",
   "metadata": {},
   "outputs": [],
   "source": [
    "data = {}\n",
    "all_ductility_values = []\n",
    "all_brittleness_values = []\n",
    "with open('output.txt', 'r') as file:\n",
    "    lines = file.readlines()\n",
    "    for line in lines:\n",
    "        if line.startswith('Image:'):\n",
    "            image_name = line.split(': ')[1].strip()\n",
    "#             print(image_name)\n",
    "        elif line.startswith('Ductility Percentage:'):\n",
    "            ductility = float(line.split(': ')[1].strip().strip('%'))\n",
    "#             print(ductility)\n",
    "            all_ductility_values.append(ductility)\n",
    "        elif line.startswith('Brittle Percentage:'):\n",
    "            brittleness = float(line.split(': ')[1].strip().strip('%'))\n",
    "#             print(brittleness)\n",
    "            all_brittleness_values.append(brittleness)"
   ]
  },
  {
   "cell_type": "code",
   "execution_count": 3,
   "id": "7eb7df91",
   "metadata": {},
   "outputs": [],
   "source": [
    "total_ductility_length = len(all_ductility_values)\n",
    "total_ductility = sum(all_ductility_values)"
   ]
  },
  {
   "cell_type": "code",
   "execution_count": 4,
   "id": "742d174f",
   "metadata": {},
   "outputs": [
    {
     "data": {
      "text/plain": [
       "36.774542710196805"
      ]
     },
     "execution_count": 4,
     "metadata": {},
     "output_type": "execute_result"
    }
   ],
   "source": [
    "average_ductility = total_ductility/total_ductility_length\n",
    "average_ductility"
   ]
  },
  {
   "cell_type": "code",
   "execution_count": 5,
   "id": "461e9f9d",
   "metadata": {},
   "outputs": [],
   "source": [
    "total_brittleness_length = len(all_brittleness_values)\n",
    "total_brittleness = sum(all_brittleness_values)"
   ]
  },
  {
   "cell_type": "code",
   "execution_count": 6,
   "id": "4b880682",
   "metadata": {},
   "outputs": [
    {
     "data": {
      "text/plain": [
       "63.22544834525913"
      ]
     },
     "execution_count": 6,
     "metadata": {},
     "output_type": "execute_result"
    }
   ],
   "source": [
    "average_brittleness = total_brittleness/total_brittleness_length\n",
    "average_brittleness"
   ]
  },
  {
   "cell_type": "code",
   "execution_count": null,
   "id": "84de2192",
   "metadata": {},
   "outputs": [],
   "source": []
  }
 ],
 "metadata": {
  "kernelspec": {
   "display_name": "Python 3 (ipykernel)",
   "language": "python",
   "name": "python3"
  },
  "language_info": {
   "codemirror_mode": {
    "name": "ipython",
    "version": 3
   },
   "file_extension": ".py",
   "mimetype": "text/x-python",
   "name": "python",
   "nbconvert_exporter": "python",
   "pygments_lexer": "ipython3",
   "version": "3.11.7"
  }
 },
 "nbformat": 4,
 "nbformat_minor": 5
}
