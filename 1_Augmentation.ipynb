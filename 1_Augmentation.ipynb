{
 "cells": [
  {
   "cell_type": "code",
   "execution_count": 1,
   "id": "8888fea5",
   "metadata": {},
   "outputs": [
    {
     "name": "stdout",
     "output_type": "stream",
     "text": [
      "Requirement already satisfied: opencv-python in c:\\users\\shyam\\anaconda3\\lib\\site-packages (4.9.0.80)\n",
      "Requirement already satisfied: numpy>=1.21.2 in c:\\users\\shyam\\anaconda3\\lib\\site-packages (from opencv-python) (1.26.4)\n",
      "Note: you may need to restart the kernel to use updated packages.\n"
     ]
    }
   ],
   "source": [
    "pip install opencv-python"
   ]
  },
  {
   "cell_type": "code",
   "execution_count": 32,
   "id": "9e7f70e6",
   "metadata": {},
   "outputs": [],
   "source": [
    "import numpy as np\n",
    "import pandas as pd\n",
    "import os\n",
    "import cv2\n",
    "import matplotlib.pyplot as plt\n",
    "import random\n",
    "from PIL import Image\n",
    "from tqdm import tqdm"
   ]
  },
  {
   "cell_type": "code",
   "execution_count": 3,
   "id": "a2d1821e",
   "metadata": {},
   "outputs": [],
   "source": [
    "# def augment_image(image):\n",
    "#     # Randomly choose augmentation techniques\n",
    "#     flip_horizontal = random.choice([True, False])\n",
    "#     flip_vertical = random.choice([True, False])\n",
    "#     rotation_angle = random.randint(-20, 20)\n",
    "#     scale_factor = random.uniform(0.8, 1.2)\n",
    "\n",
    "#     # Flip horizontally\n",
    "#     if flip_horizontal:\n",
    "#         image = cv2.flip(image, 1)\n",
    "\n",
    "#     # Flip vertically\n",
    "#     if flip_vertical:\n",
    "#         image = cv2.flip(image, 0)\n",
    "\n",
    "#     # Rotate\n",
    "#     rows, cols, _ = image.shape\n",
    "#     rotation_matrix = cv2.getRotationMatrix2D((cols / 2, rows / 2), rotation_angle, scale_factor)\n",
    "#     image = cv2.warpAffine(image, rotation_matrix, (cols, rows))\n",
    "\n",
    "#     return image"
   ]
  },
  {
   "cell_type": "code",
   "execution_count": 4,
   "id": "f68879f3",
   "metadata": {},
   "outputs": [],
   "source": [
    "# def augment_zoom(image):\n",
    "#    # Randomly choose zoom parameters\n",
    "#    zoom_factor = random.uniform(1, 1.25)\n",
    "#    zoom_center = (random.randint(0, image.shape[1]), random.randint(0, image.shape[0]))\n",
    "\n",
    "#    # Zoom\n",
    "#    zoom_matrix = cv2.getRotationMatrix2D(zoom_center, 0, zoom_factor)\n",
    "#    zoomed_image = cv2.warpAffine(image, zoom_matrix, (image.shape[1], image.shape[0]))\n",
    "\n",
    "#   return zoomed_image"
   ]
  },
  {
   "cell_type": "code",
   "execution_count": 5,
   "id": "6447d6da",
   "metadata": {},
   "outputs": [],
   "source": [
    "#def augment_zoom(image):\n",
    "#    # Randomly choose zoom parameters\n",
    "#    zoom_factor = random.uniform(1.25, 1.5)\n",
    "#    zoom_center = (random.randint(0, image.shape[1]), random.randint(0, image.shape[0]))\n",
    "\n",
    "#    # Zoom\n",
    "#    zoom_matrix = cv2.getRotationMatrix2D(zoom_center, 0, zoom_factor)\n",
    "#    zoomed_image = cv2.warpAffine(image, zoom_matrix, (image.shape[1], image.shape[0]))\n",
    "\n",
    "#    return zoomed_image"
   ]
  },
  {
   "cell_type": "code",
   "execution_count": 6,
   "id": "0666e638",
   "metadata": {},
   "outputs": [],
   "source": [
    "#def augment_zoom2(image):\n",
    "#    # Randomly choose zoom parameters\n",
    "#    zoom_factor = random.uniform(1.5, 1.75)\n",
    "#    zoom_center = (random.randint(0, image.shape[1]), random.randint(0, image.shape[0]))\n",
    "\n",
    "#    # Zoom\n",
    "#    zoom_matrix = cv2.getRotationMatrix2D(zoom_center, 0, zoom_factor)\n",
    "#    zoomed_image = cv2.warpAffine(image, zoom_matrix, (image.shape[1], image.shape[0]))\n",
    "\n",
    "#    return zoomed_image"
   ]
  },
  {
   "cell_type": "code",
   "execution_count": 7,
   "id": "bdce3c75",
   "metadata": {},
   "outputs": [],
   "source": [
    "#def augment_zoom3(image):\n",
    "#    # Randomly choose zoom parameters\n",
    "#    zoom_factor = random.uniform(1.75, 2)\n",
    "#    zoom_center = (random.randint(0, image.shape[1]), random.randint(0, image.shape[0]))\n",
    "\n",
    "#    # Zoom\n",
    "#    zoom_matrix = cv2.getRotationMatrix2D(zoom_center, 0, zoom_factor)\n",
    "#    zoomed_image = cv2.warpAffine(image, zoom_matrix, (image.shape[1], image.shape[0]))\n",
    "\n",
    "#    return zoomed_image"
   ]
  },
  {
   "cell_type": "code",
   "execution_count": 8,
   "id": "b9a76688",
   "metadata": {},
   "outputs": [],
   "source": [
    "#def augment_zoom4(image):\n",
    "#    # Randomly choose zoom parameters\n",
    "#    zoom_factor = random.uniform(2, 2.25)\n",
    "#    zoom_center = (random.randint(0, image.shape[1]), random.randint(0, image.shape[0]))\n",
    "\n",
    "#    # Zoom\n",
    "#    zoom_matrix = cv2.getRotationMatrix2D(zoom_center, 0, zoom_factor)\n",
    "#    zoomed_image = cv2.warpAffine(image, zoom_matrix, (image.shape[1], image.shape[0]))\n",
    "\n",
    "#    return zoomed_image"
   ]
  },
  {
   "cell_type": "code",
   "execution_count": 9,
   "id": "307c01fa",
   "metadata": {},
   "outputs": [],
   "source": [
    "#def augment_zoom5(image):\n",
    "#    # Randomly choose zoom parameters\n",
    "#   zoom_factor = random.uniform(2.25, 2.5)\n",
    "#    zoom_center = (random.randint(0, image.shape[1]), random.randint(0, image.shape[0]))\n",
    "\n",
    "#    # Zoom\n",
    "#    zoom_matrix = cv2.getRotationMatrix2D(zoom_center, 0, zoom_factor)\n",
    "#    zoomed_image = cv2.warpAffine(image, zoom_matrix, (image.shape[1], image.shape[0]))\n",
    "\n",
    "#    return zoomed_image"
   ]
  },
  {
   "cell_type": "code",
   "execution_count": 10,
   "id": "0a54bf24",
   "metadata": {},
   "outputs": [],
   "source": [
    "#def augment_zoom6(image):\n",
    "#    # Randomly choose zoom parameters\n",
    "#    zoom_factor = random.uniform(2.5, 2.75)\n",
    "#    zoom_center = (random.randint(0, image.shape[1]), random.randint(0, image.shape[0]))\n",
    "\n",
    "#    # Zoom\n",
    "#    zoom_matrix = cv2.getRotationMatrix2D(zoom_center, 0, zoom_factor)\n",
    "#    zoomed_image = cv2.warpAffine(image, zoom_matrix, (image.shape[1], image.shape[0]))\n",
    "\n",
    "#    return zoomed_image"
   ]
  },
  {
   "cell_type": "code",
   "execution_count": 11,
   "id": "55698210",
   "metadata": {},
   "outputs": [],
   "source": [
    "#def augment_zoom7(image):\n",
    "#    # Randomly choose zoom parameters\n",
    "#    zoom_factor = random.uniform(2.75, 3)\n",
    "#    zoom_center = (random.randint(0, image.shape[1]), random.randint(0, image.shape[0]))\n",
    "\n",
    "#    # Zoom\n",
    "#    zoom_matrix = cv2.getRotationMatrix2D(zoom_center, 0, zoom_factor)\n",
    "#    zoomed_image = cv2.warpAffine(image, zoom_matrix, (image.shape[1], image.shape[0]))\n",
    "\n",
    "#   return zoomed_image"
   ]
  },
  {
   "cell_type": "code",
   "execution_count": 12,
   "id": "ab66975d",
   "metadata": {},
   "outputs": [],
   "source": [
    "#def augment_zoom8(image):\n",
    "#    # Randomly choose zoom parameters\n",
    "#    zoom_factor = random.uniform(3, 3.25)\n",
    "#    zoom_center = (random.randint(0, image.shape[1]), random.randint(0, image.shape[0]))\n",
    "\n",
    "#    # Zoom\n",
    "#    zoom_matrix = cv2.getRotationMatrix2D(zoom_center, 0, zoom_factor)\n",
    "#    zoomed_image = cv2.warpAffine(image, zoom_matrix, (image.shape[1], image.shape[0]))\n",
    "\n",
    "#    return zoomed_image"
   ]
  },
  {
   "cell_type": "code",
   "execution_count": 14,
   "id": "c03253bb",
   "metadata": {},
   "outputs": [],
   "source": [
    "#def augment_zoom9(image):\n",
    "#    # Randomly choose zoom parameters\n",
    "#    zoom_factor = random.uniform(3.25, 3.5)\n",
    "#    zoom_center = (random.randint(0, image.shape[1]), random.randint(0, image.shape[0]))\n",
    "\n",
    "#    # Zoom\n",
    "#    zoom_matrix = cv2.getRotationMatrix2D(zoom_center, 0, zoom_factor)\n",
    "#    zoomed_image = cv2.warpAffine(image, zoom_matrix, (image.shape[1], image.shape[0]))\n",
    "\n",
    "#    return zoomed_image"
   ]
  },
  {
   "cell_type": "code",
   "execution_count": 15,
   "id": "e5125a8c",
   "metadata": {},
   "outputs": [],
   "source": [
    "#def augment_zoom10(image):\n",
    "#    # Randomly choose zoom parameters\n",
    "#    zoom_factor = random.uniform(3.5, 3.75)\n",
    "#    zoom_center = (random.randint(0, image.shape[1]), random.randint(0, image.shape[0]))\n",
    "\n",
    "#    # Zoom\n",
    "#    zoom_matrix = cv2.getRotationMatrix2D(zoom_center, 0, zoom_factor)\n",
    "#    zoomed_image = cv2.warpAffine(image, zoom_matrix, (image.shape[1], image.shape[0]))\n",
    "\n",
    "#    return zoomed_image"
   ]
  },
  {
   "cell_type": "code",
   "execution_count": 16,
   "id": "de298396",
   "metadata": {},
   "outputs": [],
   "source": [
    "#def augment_zoom11(image):\n",
    "#    # Randomly choose zoom parameters\n",
    "#    zoom_factor = random.uniform(3.75, 4)\n",
    "#    zoom_center = (random.randint(0, image.shape[1]), random.randint(0, image.shape[0]))\n",
    "\n",
    "#    # Zoom\n",
    "#    zoom_matrix = cv2.getRotationMatrix2D(zoom_center, 0, zoom_factor)\n",
    "#    zoomed_image = cv2.warpAffine(image, zoom_matrix, (image.shape[1], image.shape[0]))\n",
    "\n",
    "#    return zoomed_image"
   ]
  },
  {
   "cell_type": "code",
   "execution_count": 17,
   "id": "c1d71ab3",
   "metadata": {},
   "outputs": [],
   "source": [
    "#def augment_zoom12(image):\n",
    "#    # Randomly choose zoom parameters\n",
    "#    zoom_factor = random.uniform(4, 4.25)\n",
    "#    zoom_center = (random.randint(0, image.shape[1]), random.randint(0, image.shape[0]))\n",
    "\n",
    "#    # Zoom\n",
    "#    zoom_matrix = cv2.getRotationMatrix2D(zoom_center, 0, zoom_factor)\n",
    "#    zoomed_image = cv2.warpAffine(image, zoom_matrix, (image.shape[1], image.shape[0]))\n",
    "\n",
    "#    return zoomed_image"
   ]
  },
  {
   "cell_type": "code",
   "execution_count": 18,
   "id": "542043e2",
   "metadata": {},
   "outputs": [],
   "source": [
    "#def augment_zoom13(image):\n",
    "#    # Randomly choose zoom parameters\n",
    "#    zoom_factor = random.uniform(4.25, 4.5)\n",
    "#    zoom_center = (random.randint(0, image.shape[1]), random.randint(0, image.shape[0]))\n",
    "\n",
    "#    # Zoom\n",
    "#    zoom_matrix = cv2.getRotationMatrix2D(zoom_center, 0, zoom_factor)\n",
    "#    zoomed_image = cv2.warpAffine(image, zoom_matrix, (image.shape[1], image.shape[0]))\n",
    "\n",
    "#    return zoomed_image"
   ]
  },
  {
   "cell_type": "code",
   "execution_count": 19,
   "id": "184043a7",
   "metadata": {},
   "outputs": [],
   "source": [
    "#def augment_zoom14(image):\n",
    "#    # Randomly choose zoom parameters\n",
    "#    zoom_factor = random.uniform(4.5, 4.75)\n",
    "#    zoom_center = (random.randint(0, image.shape[1]), random.randint(0, image.shape[0]))\n",
    "\n",
    "#    # Zoom\n",
    "#    zoom_matrix = cv2.getRotationMatrix2D(zoom_center, 0, zoom_factor)\n",
    "#    zoomed_image = cv2.warpAffine(image, zoom_matrix, (image.shape[1], image.shape[0]))\n",
    "\n",
    "#    return zoomed_image"
   ]
  },
  {
   "cell_type": "code",
   "execution_count": 20,
   "id": "5cfae586",
   "metadata": {},
   "outputs": [],
   "source": [
    "#def augment_zoom15(image):\n",
    "#    # Randomly choose zoom parameters\n",
    "#    zoom_factor = random.uniform(4.75, 5)\n",
    "#    zoom_center = (random.randint(0, image.shape[1]), random.randint(0, image.shape[0]))\n",
    "\n",
    "#    # Zoom\n",
    "#    zoom_matrix = cv2.getRotationMatrix2D(zoom_center, 0, zoom_factor)\n",
    "#    zoomed_image = cv2.warpAffine(image, zoom_matrix, (image.shape[1], image.shape[0]))\n",
    "\n",
    "#    return zoomed_image"
   ]
  },
  {
   "cell_type": "code",
   "execution_count": 21,
   "id": "ae439fc3",
   "metadata": {},
   "outputs": [],
   "source": [
    " def skew_augmentation(image, intensity_range=(-0.2, 0.2)):\n",
    "    \"\"\"\n",
    "   Apply skew augmentation to the input image.\n",
    "\n",
    "    Args:\n",
    "        image (numpy.ndarray): Input image.\n",
    "        intensity_range (tuple): Range of skew intensity, represented as a tuple (min_intensity, max_intensity).\n",
    "                                The values should be between -1 and 1.\n",
    "\n",
    "    Returns:\n",
    "        numpy.ndarray: Skew-augmented image.\n",
    "    \"\"\"\n",
    "    # Generate random skew intensity\n",
    "    skew_intensity = np.random.uniform(intensity_range[0], intensity_range[1])\n",
    "\n",
    "    # Define skew matrix\n",
    "    skew_matrix = np.array([[1, skew_intensity, 0],[0, 1, 0]])\n",
    "\n",
    "    # Apply skew transformation using warpAffine\n",
    "    skewed_image = cv2.warpAffine(image, skew_matrix, (image.shape[1], image.shape[0]), borderMode=cv2.BORDER_REFLECT_101)\n",
    "\n",
    "    return skewed_image"
   ]
  },
  {
   "cell_type": "code",
   "execution_count": 22,
   "id": "9259f2fc",
   "metadata": {},
   "outputs": [],
   "source": [
    "# def augment_scale(image):\n",
    "#     # Randomly choose scale factors\n",
    "#     scale_factor_x = random.uniform(1.5, 2.5)\n",
    "#     scale_factor_y = random.uniform(1.5, 2.5)\n",
    "\n",
    "#     # Scale\n",
    "#     scaled_image = cv2.resize(image, None, fx=scale_factor_x, fy=scale_factor_y, interpolation=cv2.INTER_LINEAR)\n",
    "\n",
    "#     return scaled_image"
   ]
  },
  {
   "cell_type": "code",
   "execution_count": 23,
   "id": "05271497",
   "metadata": {},
   "outputs": [],
   "source": [
    "# def augment_crop(image):\n",
    "#     # Define the crop parameters\n",
    "#     crop_height = random.randint(int(0.5 * image.shape[0]), image.shape[0])\n",
    "#     crop_width = random.randint(int(0.5 * image.shape[1]), image.shape[1])\n",
    "#     start_x = random.randint(0, max(0, image.shape[1] - crop_width))\n",
    "#     start_y = random.randint(0, max(0, image.shape[0] - crop_height))\n",
    "\n",
    "#     # Calculate padding values\n",
    "#     top_pad = max(0, crop_height - image.shape[0])\n",
    "#     bottom_pad = max(0, crop_height - (image.shape[0] - start_y))\n",
    "#     left_pad = max(0, crop_width - image.shape[1])\n",
    "#     right_pad = max(0, crop_width - (image.shape[1] - start_x))\n",
    "\n",
    "#     # Pad the image to maintain original size\n",
    "#     padded_image = cv2.copyMakeBorder(image, top_pad, bottom_pad, left_pad, right_pad, cv2.BORDER_CONSTANT)\n",
    "\n",
    "#     # Crop the padded image\n",
    "#     cropped_image = padded_image[start_y:start_y + crop_height, start_x:start_x + crop_width]\n",
    "\n",
    "#     return cropped_image"
   ]
  },
  {
   "cell_type": "code",
   "execution_count": 28,
   "id": "327b3124",
   "metadata": {
    "scrolled": false
   },
   "outputs": [],
   "source": [
    "folder_path = r\"D:\\SEM Images\\Filtered Data\"\n",
    "# Get a list of all files in the folder\n",
    "files = os.listdir(r\"D:\\\\SEM Images\\\\Filtered Data\")\n",
    "# Iterate through the list of files\n",
    "folder_path2 = r\"D:\\SEM Images\\Filtered Data Augmented\"\n",
    "for file_name in files:\n",
    "        # Check if the file is an image file\n",
    "        # if file_name.endswith('.tiff'):\n",
    "        # Construct the full file path\n",
    "        file_path = os.path.join(folder_path, file_name)\n",
    "        \n",
    "        # Read the image using OpenCV\n",
    "        image = cv2.imread(str(file_path))\n",
    "#        zoom = augment_zoom(image)\n",
    "#        zoom2 = augment_zoom2(image)\n",
    "#        zoom3 = augment_zoom3(image)\n",
    "#        zoom4 = augment_zoom4(image)\n",
    "#        zoom5 = augment_zoom5(image)\n",
    "#        zoom6 = augment_zoom6(image)\n",
    "#        zoom7 = augment_zoom7(image)\n",
    "#        zoom8 = augment_zoom8(image)\n",
    "#        zoom9 = augment_zoom9(image)\n",
    "#        zoom10 = augment_zoom10(image)\n",
    "#        zoom11 = augment_zoom11(image)\n",
    "#        zoom12 = augment_zoom12(image)\n",
    "#        zoom13 = augment_zoom13(image)\n",
    "#        zoom14 = augment_zoom14(image)\n",
    "#        zoom15 = augment_zoom15(image)\n",
    "        skew = skew_augmentation(image)\n",
    "        file_name_only, file_extension = os.path.splitext(file_name)\n",
    "#        output_file_pathz1 = os.path.join(folder_path2, f\"{file_name_only}_zoom1{file_extension}\")\n",
    "#        output_file_pathz2 = os.path.join(folder_path2, f\"{file_name_only}_zoom2{file_extension}\")\n",
    "#        output_file_pathz3 = os.path.join(folder_path2, f\"{file_name_only}_zoom3{file_extension}\")\n",
    "#        output_file_pathz4 = os.path.join(folder_path2, f\"{file_name_only}_zoom4{file_extension}\")\n",
    "#        output_file_pathz5 = os.path.join(folder_path2, f\"{file_name_only}_zoom5{file_extension}\")\n",
    "#        output_file_pathz6 = os.path.join(folder_path2, f\"{file_name_only}_zoom6{file_extension}\")\n",
    "#        output_file_pathz7 = os.path.join(folder_path2, f\"{file_name_only}_zoom7{file_extension}\")\n",
    "#        output_file_pathz8 = os.path.join(folder_path2, f\"{file_name_only}_zoom8{file_extension}\")\n",
    "#        output_file_pathz9 = os.path.join(folder_path2, f\"{file_name_only}_zoom9{file_extension}\")\n",
    "#        output_file_pathz10 = os.path.join(folder_path2, f\"{file_name_only}_zoom10{file_extension}\")\n",
    "#        output_file_pathz11 = os.path.join(folder_path2, f\"{file_name_only}_zoom11{file_extension}\")\n",
    "#        output_file_pathz12 = os.path.join(folder_path2, f\"{file_name_only}_zoom12{file_extension}\")\n",
    "#        output_file_pathz13 = os.path.join(folder_path2, f\"{file_name_only}_zoom13{file_extension}\")\n",
    "#        output_file_pathz14 = os.path.join(folder_path2, f\"{file_name_only}_zoom14{file_extension}\")\n",
    "#        output_file_pathz15 = os.path.join(folder_path2, f\"{file_name_only}_zoom15{file_extension}\")\n",
    "        output_file_pathskew = os.path.join(folder_path2, f\"{file_name_only}_skew{file_extension}\")\n",
    "#        cv2.imwrite(output_file_pathz1, zoom)\n",
    "#        cv2.imwrite(output_file_pathz2, zoom2)\n",
    "#        cv2.imwrite(output_file_pathz3, zoom3)\n",
    "#        cv2.imwrite(output_file_pathz4, zoom4)\n",
    "#        cv2.imwrite(output_file_pathz5, zoom5)\n",
    "#        cv2.imwrite(output_file_pathz6, zoom6)\n",
    "#        cv2.imwrite(output_file_pathz7, zoom7)\n",
    "#        cv2.imwrite(output_file_pathz8, zoom8)\n",
    "#        cv2.imwrite(output_file_pathz9, zoom9)\n",
    "#        cv2.imwrite(output_file_pathz10, zoom10)\n",
    "#        cv2.imwrite(output_file_pathz11, zoom11)\n",
    "#        cv2.imwrite(output_file_pathz12, zoom12)\n",
    "#        cv2.imwrite(output_file_pathz13, zoom13)\n",
    "#        cv2.imwrite(output_file_pathz14, zoom14)\n",
    "#        cv2.imwrite(output_file_pathz15, zoom15)\n",
    "        cv2.imwrite(output_file_pathskew, skew)\n",
    "\n",
    "        \n",
    "#         # Save the augmented image\n",
    "#         cv2.imwrite(output_file_path, augmented_image)\n",
    "#         cv2.imwrite('test_crop.jpg', crop)\n",
    "#         output_path = \"C:\\Users\\shyam\\OneDrive\\Desktop\\Master-thesis\\SEM Images\\tets_augmentation\"\n",
    "#         crop_output_path = os.path.splitext(file_name)[0] + '-crop'\n",
    "#         cv2.imwrite(crop_output_path, crop)\n",
    "#         zoom_output_path = os.path.splitext(file_name)[0] + '-zoom'\n",
    "#         cv2.imwrite(zoom_output_path, zoom)\n",
    "#         scale_output_path = os.path.splitext(file_name)[0] + '-scale'\n",
    "#         cv2.imwrite(scale_output_path, scale)\n",
    "        \n",
    "        "
   ]
  },
  {
   "cell_type": "markdown",
   "id": "40a83208",
   "metadata": {},
   "source": [
    "# Compression"
   ]
  },
  {
   "cell_type": "code",
   "execution_count": 34,
   "id": "5cda14a3",
   "metadata": {},
   "outputs": [
    {
     "name": "stderr",
     "output_type": "stream",
     "text": [
      "file Group A- Alredy tempered-Bottom3_filtered.tiff/17888:   0%|          | 65/17888 [00:19<1:30:47,  3.27it/s]            \n"
     ]
    },
    {
     "ename": "KeyboardInterrupt",
     "evalue": "",
     "output_type": "error",
     "traceback": [
      "\u001b[1;31m---------------------------------------------------------------------------\u001b[0m",
      "\u001b[1;31mKeyboardInterrupt\u001b[0m                         Traceback (most recent call last)",
      "Cell \u001b[1;32mIn[34], line 12\u001b[0m\n\u001b[0;32m     10\u001b[0m file_name_only, file_extension \u001b[38;5;241m=\u001b[39m os\u001b[38;5;241m.\u001b[39mpath\u001b[38;5;241m.\u001b[39msplitext(file_name)\n\u001b[0;32m     11\u001b[0m output_file_path \u001b[38;5;241m=\u001b[39m os\u001b[38;5;241m.\u001b[39mpath\u001b[38;5;241m.\u001b[39mjoin(folder_path2, \u001b[38;5;124mf\u001b[39m\u001b[38;5;124m\"\u001b[39m\u001b[38;5;132;01m{\u001b[39;00mfile_name_only\u001b[38;5;132;01m}\u001b[39;00m\u001b[38;5;124m_compressed\u001b[39m\u001b[38;5;132;01m{\u001b[39;00mfile_extension\u001b[38;5;132;01m}\u001b[39;00m\u001b[38;5;124m\"\u001b[39m)\n\u001b[1;32m---> 12\u001b[0m image\u001b[38;5;241m.\u001b[39msave(output_file_path, compression\u001b[38;5;241m=\u001b[39m\u001b[38;5;124m\"\u001b[39m\u001b[38;5;124mtiff_deflate\u001b[39m\u001b[38;5;124m\"\u001b[39m)\n\u001b[0;32m     13\u001b[0m pbar\u001b[38;5;241m.\u001b[39mset_description(\u001b[38;5;124mf\u001b[39m\u001b[38;5;124m'\u001b[39m\u001b[38;5;124mfile \u001b[39m\u001b[38;5;132;01m{\u001b[39;00mfile_name\u001b[38;5;132;01m}\u001b[39;00m\u001b[38;5;124m/\u001b[39m\u001b[38;5;132;01m{\u001b[39;00m\u001b[38;5;28mlen\u001b[39m(files)\u001b[38;5;132;01m}\u001b[39;00m\u001b[38;5;124m'\u001b[39m)\n\u001b[0;32m     14\u001b[0m pbar\u001b[38;5;241m.\u001b[39mupdate(\u001b[38;5;241m1\u001b[39m)\n",
      "File \u001b[1;32m~\\anaconda3\\Lib\\site-packages\\PIL\\Image.py:2450\u001b[0m, in \u001b[0;36mImage.save\u001b[1;34m(self, fp, format, **params)\u001b[0m\n\u001b[0;32m   2448\u001b[0m     \u001b[38;5;28;01mraise\u001b[39;00m\n\u001b[0;32m   2449\u001b[0m \u001b[38;5;28;01mif\u001b[39;00m open_fp:\n\u001b[1;32m-> 2450\u001b[0m     fp\u001b[38;5;241m.\u001b[39mclose()\n",
      "\u001b[1;31mKeyboardInterrupt\u001b[0m: "
     ]
    }
   ],
   "source": [
    "folder_path = r\"D:\\SEM Images\\Filtered Data Augmented\"\n",
    "# Get a list of all files in the folder\n",
    "files = os.listdir(r\"D:\\\\SEM Images\\\\Filtered Data Augmented\")\n",
    "# Iterate through the list of files\n",
    "folder_path2 = r\"D:\\SEM Images\\Filtered Data Compressed\"\n",
    "with tqdm(total=len(files)) as pbar:\n",
    "    for file_name in files:\n",
    "        file_path = os.path.join(folder_path, file_name)\n",
    "        image = Image.open(file_path)\n",
    "        file_name_only, file_extension = os.path.splitext(file_name)\n",
    "        output_file_path = os.path.join(folder_path2, f\"{file_name_only}_compressed{file_extension}\")\n",
    "        image.save(output_file_path, compression=\"tiff_deflate\")\n",
    "        pbar.set_description(f'file {file_name}/{len(files)}')\n",
    "        pbar.update(1)"
   ]
  },
  {
   "cell_type": "code",
   "execution_count": null,
   "id": "de700730",
   "metadata": {},
   "outputs": [],
   "source": [
    "# Open the TIFF image\n",
    "image = Image.open(\"input_image.tiff\")\n",
    "\n",
    "# Compress the image by saving it with a specific compression format\n",
    "# For example, you can use 'tiff_deflate' compression which uses the Deflate algorithm\n",
    "image.save(\"compressed_image.tiff\", compression=\"tiff_deflate\")\n",
    "\n",
    "# Close the image\n",
    "image.close()"
   ]
  },
  {
   "cell_type": "code",
   "execution_count": null,
   "id": "2ae667f9",
   "metadata": {},
   "outputs": [],
   "source": []
  },
  {
   "cell_type": "code",
   "execution_count": null,
   "id": "c6f7a7d8",
   "metadata": {},
   "outputs": [],
   "source": [
    "plt.imshow(image)"
   ]
  },
  {
   "cell_type": "code",
   "execution_count": null,
   "id": "7eb0d9fa",
   "metadata": {},
   "outputs": [],
   "source": [
    "plt.imshow(image)"
   ]
  },
  {
   "cell_type": "code",
   "execution_count": null,
   "id": "eccc8c21",
   "metadata": {},
   "outputs": [],
   "source": [
    "image.shape"
   ]
  },
  {
   "cell_type": "code",
   "execution_count": null,
   "id": "8e80a7fe",
   "metadata": {},
   "outputs": [],
   "source": [
    "plt.imshow(zoom)"
   ]
  },
  {
   "cell_type": "code",
   "execution_count": null,
   "id": "5e7207f3",
   "metadata": {},
   "outputs": [],
   "source": [
    "zoom.shape"
   ]
  },
  {
   "cell_type": "code",
   "execution_count": null,
   "id": "c4bbbdfb",
   "metadata": {},
   "outputs": [],
   "source": [
    "image.shape"
   ]
  },
  {
   "cell_type": "code",
   "execution_count": null,
   "id": "812c81dc",
   "metadata": {},
   "outputs": [],
   "source": []
  }
 ],
 "metadata": {
  "kernelspec": {
   "display_name": "Python 3 (ipykernel)",
   "language": "python",
   "name": "python3"
  },
  "language_info": {
   "codemirror_mode": {
    "name": "ipython",
    "version": 3
   },
   "file_extension": ".py",
   "mimetype": "text/x-python",
   "name": "python",
   "nbconvert_exporter": "python",
   "pygments_lexer": "ipython3",
   "version": "3.11.7"
  }
 },
 "nbformat": 4,
 "nbformat_minor": 5
}
